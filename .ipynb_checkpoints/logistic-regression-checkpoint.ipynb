{
 "cells": [
  {
   "cell_type": "code",
   "execution_count": 84,
   "id": "b6d0ec2a-65bb-4975-8638-9ab46812ef88",
   "metadata": {},
   "outputs": [],
   "source": [
    "import numpy as np\n",
    "import pandas as pd\n",
    "import torch\n",
    "from sklearn.model_selection import train_test_split, StratifiedShuffleSplit"
   ]
  },
  {
   "cell_type": "markdown",
   "id": "3b72b0ee-ddc6-45f2-bb3d-0470bf3daaa8",
   "metadata": {},
   "source": [
    "# Logistic Regression"
   ]
  },
  {
   "cell_type": "code",
   "execution_count": 37,
   "id": "bb741f3f-b9d1-462e-af25-ec903af5acf1",
   "metadata": {},
   "outputs": [],
   "source": [
    "pd.set_option('display.max_columns', None)\n",
    "df = pd.read_csv(r'C:\\Users\\lksja\\Downloads\\archive\\Base.csv')"
   ]
  },
  {
   "cell_type": "code",
   "execution_count": 101,
   "id": "1152c62d-c2c6-42b0-9892-64162d267a4e",
   "metadata": {},
   "outputs": [
    {
     "data": {
      "text/html": [
       "<div>\n",
       "<style scoped>\n",
       "    .dataframe tbody tr th:only-of-type {\n",
       "        vertical-align: middle;\n",
       "    }\n",
       "\n",
       "    .dataframe tbody tr th {\n",
       "        vertical-align: top;\n",
       "    }\n",
       "\n",
       "    .dataframe thead th {\n",
       "        text-align: right;\n",
       "    }\n",
       "</style>\n",
       "<table border=\"1\" class=\"dataframe\">\n",
       "  <thead>\n",
       "    <tr style=\"text-align: right;\">\n",
       "      <th></th>\n",
       "      <th>fraud_bool</th>\n",
       "      <th>income</th>\n",
       "      <th>name_email_similarity</th>\n",
       "      <th>prev_address_months_count</th>\n",
       "      <th>current_address_months_count</th>\n",
       "      <th>customer_age</th>\n",
       "      <th>days_since_request</th>\n",
       "      <th>intended_balcon_amount</th>\n",
       "      <th>payment_type</th>\n",
       "      <th>zip_count_4w</th>\n",
       "      <th>velocity_6h</th>\n",
       "      <th>velocity_24h</th>\n",
       "      <th>velocity_4w</th>\n",
       "      <th>bank_branch_count_8w</th>\n",
       "      <th>date_of_birth_distinct_emails_4w</th>\n",
       "      <th>employment_status</th>\n",
       "      <th>credit_risk_score</th>\n",
       "      <th>email_is_free</th>\n",
       "      <th>housing_status</th>\n",
       "      <th>phone_home_valid</th>\n",
       "      <th>phone_mobile_valid</th>\n",
       "      <th>bank_months_count</th>\n",
       "      <th>has_other_cards</th>\n",
       "      <th>proposed_credit_limit</th>\n",
       "      <th>foreign_request</th>\n",
       "      <th>source</th>\n",
       "      <th>session_length_in_minutes</th>\n",
       "      <th>device_os</th>\n",
       "      <th>keep_alive_session</th>\n",
       "      <th>device_distinct_emails_8w</th>\n",
       "      <th>device_fraud_count</th>\n",
       "      <th>month</th>\n",
       "    </tr>\n",
       "  </thead>\n",
       "  <tbody>\n",
       "    <tr>\n",
       "      <th>999995</th>\n",
       "      <td>0</td>\n",
       "      <td>0.8</td>\n",
       "      <td>0.124690</td>\n",
       "      <td>-1</td>\n",
       "      <td>143</td>\n",
       "      <td>30</td>\n",
       "      <td>0.051348</td>\n",
       "      <td>-0.826239</td>\n",
       "      <td>AB</td>\n",
       "      <td>530</td>\n",
       "      <td>6732.602414</td>\n",
       "      <td>3010.048099</td>\n",
       "      <td>3095.754245</td>\n",
       "      <td>42</td>\n",
       "      <td>8</td>\n",
       "      <td>CA</td>\n",
       "      <td>305</td>\n",
       "      <td>1</td>\n",
       "      <td>BB</td>\n",
       "      <td>1</td>\n",
       "      <td>1</td>\n",
       "      <td>31</td>\n",
       "      <td>0</td>\n",
       "      <td>1500.0</td>\n",
       "      <td>0</td>\n",
       "      <td>INTERNET</td>\n",
       "      <td>16.967770</td>\n",
       "      <td>other</td>\n",
       "      <td>0</td>\n",
       "      <td>1</td>\n",
       "      <td>0</td>\n",
       "      <td>7</td>\n",
       "    </tr>\n",
       "    <tr>\n",
       "      <th>999996</th>\n",
       "      <td>0</td>\n",
       "      <td>0.9</td>\n",
       "      <td>0.824544</td>\n",
       "      <td>-1</td>\n",
       "      <td>193</td>\n",
       "      <td>30</td>\n",
       "      <td>0.009591</td>\n",
       "      <td>0.008307</td>\n",
       "      <td>AC</td>\n",
       "      <td>408</td>\n",
       "      <td>1574.293294</td>\n",
       "      <td>2716.495767</td>\n",
       "      <td>4286.089050</td>\n",
       "      <td>0</td>\n",
       "      <td>5</td>\n",
       "      <td>CA</td>\n",
       "      <td>235</td>\n",
       "      <td>0</td>\n",
       "      <td>BA</td>\n",
       "      <td>1</td>\n",
       "      <td>1</td>\n",
       "      <td>-1</td>\n",
       "      <td>1</td>\n",
       "      <td>1000.0</td>\n",
       "      <td>0</td>\n",
       "      <td>INTERNET</td>\n",
       "      <td>1.504109</td>\n",
       "      <td>macintosh</td>\n",
       "      <td>0</td>\n",
       "      <td>1</td>\n",
       "      <td>0</td>\n",
       "      <td>7</td>\n",
       "    </tr>\n",
       "    <tr>\n",
       "      <th>999997</th>\n",
       "      <td>0</td>\n",
       "      <td>0.8</td>\n",
       "      <td>0.140891</td>\n",
       "      <td>-1</td>\n",
       "      <td>202</td>\n",
       "      <td>10</td>\n",
       "      <td>0.059287</td>\n",
       "      <td>50.609995</td>\n",
       "      <td>AA</td>\n",
       "      <td>749</td>\n",
       "      <td>1258.864938</td>\n",
       "      <td>3601.322892</td>\n",
       "      <td>3103.891664</td>\n",
       "      <td>2</td>\n",
       "      <td>3</td>\n",
       "      <td>CA</td>\n",
       "      <td>195</td>\n",
       "      <td>1</td>\n",
       "      <td>BE</td>\n",
       "      <td>0</td>\n",
       "      <td>1</td>\n",
       "      <td>31</td>\n",
       "      <td>0</td>\n",
       "      <td>200.0</td>\n",
       "      <td>0</td>\n",
       "      <td>INTERNET</td>\n",
       "      <td>16.068595</td>\n",
       "      <td>other</td>\n",
       "      <td>0</td>\n",
       "      <td>1</td>\n",
       "      <td>0</td>\n",
       "      <td>7</td>\n",
       "    </tr>\n",
       "    <tr>\n",
       "      <th>999998</th>\n",
       "      <td>0</td>\n",
       "      <td>0.9</td>\n",
       "      <td>0.002480</td>\n",
       "      <td>52</td>\n",
       "      <td>3</td>\n",
       "      <td>30</td>\n",
       "      <td>0.023357</td>\n",
       "      <td>-1.313387</td>\n",
       "      <td>AB</td>\n",
       "      <td>707</td>\n",
       "      <td>7048.137128</td>\n",
       "      <td>6521.395012</td>\n",
       "      <td>3068.265084</td>\n",
       "      <td>7</td>\n",
       "      <td>8</td>\n",
       "      <td>CA</td>\n",
       "      <td>148</td>\n",
       "      <td>0</td>\n",
       "      <td>BD</td>\n",
       "      <td>0</td>\n",
       "      <td>1</td>\n",
       "      <td>1</td>\n",
       "      <td>0</td>\n",
       "      <td>200.0</td>\n",
       "      <td>0</td>\n",
       "      <td>INTERNET</td>\n",
       "      <td>1.378683</td>\n",
       "      <td>linux</td>\n",
       "      <td>1</td>\n",
       "      <td>1</td>\n",
       "      <td>0</td>\n",
       "      <td>7</td>\n",
       "    </tr>\n",
       "    <tr>\n",
       "      <th>999999</th>\n",
       "      <td>0</td>\n",
       "      <td>0.6</td>\n",
       "      <td>0.993391</td>\n",
       "      <td>-1</td>\n",
       "      <td>174</td>\n",
       "      <td>30</td>\n",
       "      <td>0.020422</td>\n",
       "      <td>14.942456</td>\n",
       "      <td>AA</td>\n",
       "      <td>655</td>\n",
       "      <td>3737.076479</td>\n",
       "      <td>3135.788094</td>\n",
       "      <td>3051.003293</td>\n",
       "      <td>14</td>\n",
       "      <td>8</td>\n",
       "      <td>CA</td>\n",
       "      <td>100</td>\n",
       "      <td>1</td>\n",
       "      <td>BB</td>\n",
       "      <td>0</td>\n",
       "      <td>1</td>\n",
       "      <td>15</td>\n",
       "      <td>1</td>\n",
       "      <td>200.0</td>\n",
       "      <td>0</td>\n",
       "      <td>INTERNET</td>\n",
       "      <td>1.947926</td>\n",
       "      <td>other</td>\n",
       "      <td>1</td>\n",
       "      <td>1</td>\n",
       "      <td>0</td>\n",
       "      <td>7</td>\n",
       "    </tr>\n",
       "  </tbody>\n",
       "</table>\n",
       "</div>"
      ],
      "text/plain": [
       "        fraud_bool  income  name_email_similarity  prev_address_months_count  \\\n",
       "999995           0     0.8               0.124690                         -1   \n",
       "999996           0     0.9               0.824544                         -1   \n",
       "999997           0     0.8               0.140891                         -1   \n",
       "999998           0     0.9               0.002480                         52   \n",
       "999999           0     0.6               0.993391                         -1   \n",
       "\n",
       "        current_address_months_count  customer_age  days_since_request  \\\n",
       "999995                           143            30            0.051348   \n",
       "999996                           193            30            0.009591   \n",
       "999997                           202            10            0.059287   \n",
       "999998                             3            30            0.023357   \n",
       "999999                           174            30            0.020422   \n",
       "\n",
       "        intended_balcon_amount payment_type  zip_count_4w  velocity_6h  \\\n",
       "999995               -0.826239           AB           530  6732.602414   \n",
       "999996                0.008307           AC           408  1574.293294   \n",
       "999997               50.609995           AA           749  1258.864938   \n",
       "999998               -1.313387           AB           707  7048.137128   \n",
       "999999               14.942456           AA           655  3737.076479   \n",
       "\n",
       "        velocity_24h  velocity_4w  bank_branch_count_8w  \\\n",
       "999995   3010.048099  3095.754245                    42   \n",
       "999996   2716.495767  4286.089050                     0   \n",
       "999997   3601.322892  3103.891664                     2   \n",
       "999998   6521.395012  3068.265084                     7   \n",
       "999999   3135.788094  3051.003293                    14   \n",
       "\n",
       "        date_of_birth_distinct_emails_4w employment_status  credit_risk_score  \\\n",
       "999995                                 8                CA                305   \n",
       "999996                                 5                CA                235   \n",
       "999997                                 3                CA                195   \n",
       "999998                                 8                CA                148   \n",
       "999999                                 8                CA                100   \n",
       "\n",
       "        email_is_free housing_status  phone_home_valid  phone_mobile_valid  \\\n",
       "999995              1             BB                 1                   1   \n",
       "999996              0             BA                 1                   1   \n",
       "999997              1             BE                 0                   1   \n",
       "999998              0             BD                 0                   1   \n",
       "999999              1             BB                 0                   1   \n",
       "\n",
       "        bank_months_count  has_other_cards  proposed_credit_limit  \\\n",
       "999995                 31                0                 1500.0   \n",
       "999996                 -1                1                 1000.0   \n",
       "999997                 31                0                  200.0   \n",
       "999998                  1                0                  200.0   \n",
       "999999                 15                1                  200.0   \n",
       "\n",
       "        foreign_request    source  session_length_in_minutes  device_os  \\\n",
       "999995                0  INTERNET                  16.967770      other   \n",
       "999996                0  INTERNET                   1.504109  macintosh   \n",
       "999997                0  INTERNET                  16.068595      other   \n",
       "999998                0  INTERNET                   1.378683      linux   \n",
       "999999                0  INTERNET                   1.947926      other   \n",
       "\n",
       "        keep_alive_session  device_distinct_emails_8w  device_fraud_count  \\\n",
       "999995                   0                          1                   0   \n",
       "999996                   0                          1                   0   \n",
       "999997                   0                          1                   0   \n",
       "999998                   1                          1                   0   \n",
       "999999                   1                          1                   0   \n",
       "\n",
       "        month  \n",
       "999995      7  \n",
       "999996      7  \n",
       "999997      7  \n",
       "999998      7  \n",
       "999999      7  "
      ]
     },
     "execution_count": 101,
     "metadata": {},
     "output_type": "execute_result"
    }
   ],
   "source": [
    "df.tail()"
   ]
  },
  {
   "cell_type": "code",
   "execution_count": 47,
   "id": "fad2e632-99a7-4ae3-a085-e2c1d4c34198",
   "metadata": {},
   "outputs": [],
   "source": [
    "# One-Hot Encoding\n",
    "df_encoded = pd.get_dummies(df, columns = ['payment_type', 'employment_status', 'device_os', 'housing_status'])\n",
    "\n",
    "# Binary Encoding\n",
    "df_encoded['source'] = df_encoded['source'].map({'INTERNET' : 1, 'TELEAPP' : 0})"
   ]
  },
  {
   "cell_type": "code",
   "execution_count": 133,
   "id": "a4dba298-e93a-4822-b73e-0f1c8724e302",
   "metadata": {},
   "outputs": [],
   "source": [
    "X = df_encoded.iloc[:, 1:].to_numpy()\n",
    "y = df_encoded['fraud_bool'].to_numpy()"
   ]
  },
  {
   "cell_type": "code",
   "execution_count": 197,
   "id": "e49f0f0c-0b3c-43e1-b3d4-63e4d685ad3a",
   "metadata": {},
   "outputs": [],
   "source": [
    "split = StratifiedShuffleSplit(n_splits=1, test_size=0.2)\n",
    "\n",
    "for train_idx, test_idx in split.split(X, y):\n",
    "    X_train, X_test = X[train_idx], X[test_idx]\n",
    "    y_train, y_test = y[train_idx], y[test_idx]"
   ]
  },
  {
   "cell_type": "code",
   "execution_count": 199,
   "id": "8ea673f6-50d4-4985-9998-7767c25f2361",
   "metadata": {},
   "outputs": [
    {
     "data": {
      "text/plain": [
       "(800000, 51)"
      ]
     },
     "execution_count": 199,
     "metadata": {},
     "output_type": "execute_result"
    }
   ],
   "source": [
    "y_train.shape\n",
    "X_train.shape\n",
    "w_"
   ]
  },
  {
   "cell_type": "code",
   "execution_count": 214,
   "id": "68f43364-226d-4d55-84e0-bd1c821382cf",
   "metadata": {},
   "outputs": [],
   "source": [
    "b_in = 10\n",
    "w_in = np.array(np.random.rand(51))"
   ]
  },
  {
   "cell_type": "code",
   "execution_count": 257,
   "id": "926f3465-aafc-4c80-bb79-990fa0c9ab0b",
   "metadata": {},
   "outputs": [],
   "source": [
    "def compute_logistic_loss(x, y, w, b):\n",
    "\n",
    "    m = x.shape[0]\n",
    "    cost = 0\n",
    "\n",
    "    \n",
    "    f_wb = 1/(1 + np.exp(-(x @ w + b).astype('float64')))\n",
    "    loss = -y * np.log(f_wb) - (1 - y) * np.log(1 - f_wb)\n",
    "    cost = np.sum(loss) / m\n",
    "\n",
    "    return cost"
   ]
  },
  {
   "cell_type": "code",
   "execution_count": 258,
   "id": "ee7c36b1-0a48-448d-befc-00538f08f15e",
   "metadata": {},
   "outputs": [
    {
     "name": "stderr",
     "output_type": "stream",
     "text": [
      "C:\\Users\\lksja\\AppData\\Local\\Temp\\ipykernel_11376\\1478645090.py:8: RuntimeWarning: divide by zero encountered in log\n",
      "  loss = -y * np.log(f_wb) - (1 - y) * np.log(1 - f_wb)\n",
      "C:\\Users\\lksja\\AppData\\Local\\Temp\\ipykernel_11376\\1478645090.py:8: RuntimeWarning: invalid value encountered in multiply\n",
      "  loss = -y * np.log(f_wb) - (1 - y) * np.log(1 - f_wb)\n"
     ]
    },
    {
     "data": {
      "text/plain": [
       "np.float64(nan)"
      ]
     },
     "execution_count": 258,
     "metadata": {},
     "output_type": "execute_result"
    }
   ],
   "source": [
    "compute_logistic_loss(X_train, y_train, w_in, b_in)"
   ]
  },
  {
   "cell_type": "code",
   "execution_count": 264,
   "id": "674c2095-3597-49ea-b162-c46f8bbe7029",
   "metadata": {},
   "outputs": [
    {
     "data": {
      "text/plain": [
       "array([1., 1., 1., 1., 1., 1., 1., 1., 1., 1., 1., 1., 1., 1., 1., 1., 1.,\n",
       "       1., 1., 1., 1., 1., 1., 1., 1., 1., 1., 1., 1., 1., 1., 1., 1., 1.,\n",
       "       1., 1., 1., 1., 1., 1., 1., 1., 1., 1., 1., 1., 1., 1., 1., 1., 1.,\n",
       "       1., 1., 1., 1., 1., 1., 1., 1., 1., 1., 1., 1., 1., 1., 1., 1., 1.,\n",
       "       1., 1., 1., 1., 1., 1., 1., 1., 1., 1., 1., 1., 1., 1., 1., 1., 1.,\n",
       "       1., 1., 1., 1., 1., 1., 1., 1., 1., 1., 1., 1., 1., 1., 1.])"
      ]
     },
     "execution_count": 264,
     "metadata": {},
     "output_type": "execute_result"
    }
   ],
   "source": [
    "f_wb = 1/(1 + np.exp(-(X_train @ w_in + b_in).astype('float64')))\n",
    "f_wb[:100]"
   ]
  },
  {
   "cell_type": "code",
   "execution_count": 262,
   "id": "2d03bc01-f576-4aa0-b9ae-406e78aed49a",
   "metadata": {},
   "outputs": [
    {
     "name": "stderr",
     "output_type": "stream",
     "text": [
      "C:\\Users\\lksja\\AppData\\Local\\Temp\\ipykernel_11376\\2599969668.py:1: RuntimeWarning: divide by zero encountered in log\n",
      "  -y_train * np.log(f_wb) - (1 - y_train) * np.log(1 - f_wb)\n",
      "C:\\Users\\lksja\\AppData\\Local\\Temp\\ipykernel_11376\\2599969668.py:1: RuntimeWarning: invalid value encountered in multiply\n",
      "  -y_train * np.log(f_wb) - (1 - y_train) * np.log(1 - f_wb)\n"
     ]
    },
    {
     "data": {
      "text/plain": [
       "array([inf, inf, inf, ..., inf, inf, nan])"
      ]
     },
     "execution_count": 262,
     "metadata": {},
     "output_type": "execute_result"
    }
   ],
   "source": [
    "-y_train * np.log(f_wb) - (1 - y_train) * np.log(1 - f_wb)"
   ]
  },
  {
   "cell_type": "code",
   "execution_count": null,
   "id": "6e659ead-4345-46dd-809e-581f60ad449b",
   "metadata": {},
   "outputs": [],
   "source": []
  }
 ],
 "metadata": {
  "kernelspec": {
   "display_name": "Python 3 (ipykernel)",
   "language": "python",
   "name": "python3"
  },
  "language_info": {
   "codemirror_mode": {
    "name": "ipython",
    "version": 3
   },
   "file_extension": ".py",
   "mimetype": "text/x-python",
   "name": "python",
   "nbconvert_exporter": "python",
   "pygments_lexer": "ipython3",
   "version": "3.13.2"
  }
 },
 "nbformat": 4,
 "nbformat_minor": 5
}
